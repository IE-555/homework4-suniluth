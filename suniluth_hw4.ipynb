{
 "cells": [
  {
   "cell_type": "markdown",
   "metadata": {},
   "source": [
    "# Homework 4: Data Visualization\n",
    "- **Name**:  Sunil Uthukota\n",
    "- **UB Username**: suniluth\n",
    "- **UB Person Number**:  50468252"
   ]
  },
  {
   "cell_type": "markdown",
   "metadata": {},
   "source": [
    "--- \n",
    "## Part 1 - Generate Plots According to Specifications"
   ]
  },
  {
   "cell_type": "markdown",
   "metadata": {},
   "source": [
    "### Problem 1 - Scatter Plot with a Line"
   ]
  },
  {
   "cell_type": "code",
   "execution_count": null,
   "metadata": {},
   "outputs": [],
   "source": [
    "import matplotlib.pyplot as plt\n",
    "import numpy as np\n",
    "import matplotlib.patches\n",
    "\n",
    "data = np.genfromtxt(\"scatter_data.csv\", delimiter=\",\", comments=\"%\")\n",
    "x = data[:, 0]\n",
    "y = data[:, 1]\n",
    "leftmost_point = x.min()\n",
    "rightmost_point = x.max()\n",
    "\n",
    "line_x = np.array([leftmost_point, rightmost_point])\n",
    "line_y = np.array([y[np.where(x == leftmost_point)[0][0]], y[np.where(x == rightmost_point)[0][0]]])\n",
    "\n",
    "plt.scatter(x, y, marker=\"^\", color=\"green\", label=\" Observations\")\n",
    "\n",
    "plt.plot(line_x, line_y, color=\"red\", linestyle=\"--\", label=\"Extreme x points\", zorder=0)\n",
    "\n",
    "plt.legend(loc=\"upper left\")\n",
    "plt.title(\"Widget Measurements\")\n",
    "plt.xlabel(\"x [inches]\")\n",
    "plt.ylabel(\"y [inches]\")\n",
    "plt.show()"
   ]
  },
  {
   "cell_type": "markdown",
   "metadata": {},
   "source": [
    "### Problem 2 - Histogram"
   ]
  },
  {
   "cell_type": "code",
   "execution_count": null,
   "metadata": {},
   "outputs": [],
   "source": [
    "\n",
    "data = np.genfromtxt(\"student_grades.csv\", delimiter=\",\", comments=\"%\")\n",
    "student_grades = data[:, 1]\n",
    "\n",
    "\n",
    "bin_edges = [0, 60, 70, 80, 90, 100]\n",
    "letter_grades = ['F', 'D', 'C', 'B', 'A']\n",
    "\n",
    "\n",
    "n, bins, patches = plt.hist(student_grades, bins=bin_edges, color=\"orange\", edgecolor=\"black\", rwidth=0.8)\n",
    "\n",
    "plt.title(\"Grade Distribution\")\n",
    "plt.xlabel(\"Grade\")\n",
    "plt.ylabel(\"Count\")\n",
    "\n",
    "\n",
    "ax = plt.gca()\n",
    "\n",
    "\n",
    "for bar, grade in zip(patches, letter_grades):\n",
    "    height = int(bar.get_height())\n",
    "    ax.text(bar.get_x() + bar.get_width() / 2, height, str(height), ha='center', va='bottom', fontsize=12)\n",
    "\n",
    "bin_centers = [0.5 * (bin_edges[i] + bin_edges[i + 1]) for i in range(len(bin_edges) - 1)]\n",
    "plt.xticks(bin_centers, letter_grades)\n",
    "\n",
    "\n",
    "plt.show()\n"
   ]
  },
  {
   "cell_type": "markdown",
   "metadata": {},
   "source": [
    "### Problem 3 - Barplot and Boxplot in the Same Figure"
   ]
  },
  {
   "cell_type": "code",
   "execution_count": null,
   "metadata": {},
   "outputs": [],
   "source": [
    "import pandas as pd\n",
    "\n",
    "data = pd.read_csv(\"solution_data.csv\", header=None, comment=\"%\")\n",
    "\n",
    "#first subplot\n",
    "colors = {\n",
    "    \"optimal\": \"orange\",\n",
    "    \"genetic algorithm\": \"orange\",\n",
    "    \"simulated annealing\": \"orange\",\n",
    "    \"tabu search\": \"orange\",\n",
    "}\n",
    "\n",
    "max_value = data[2].max()\n",
    "\n",
    "\n",
    "data[\"Optimality Gap\"] = (max_value - data[2]) / max_value * 100\n",
    "\n",
    "\n",
    "filtered_data = data[data[1].isin(colors.keys())]\n",
    "\n",
    "\n",
    "average_gaps = filtered_data.groupby(1)[\"Optimality Gap\"].mean()\n",
    "\n",
    "fig, axs = plt.subplots(1, 2, figsize=(12, 6))\n",
    "\n",
    "bars = axs[0].bar(average_gaps.index, average_gaps, color=colors.values(), edgecolor=\"black\")\n",
    "axs[0].set_xticks(range(len(average_gaps.index)))\n",
    "axs[0].set_xticklabels(average_gaps.index)\n",
    "axs[0].set_xlabel(\"Heuristic\")\n",
    "axs[0].set_ylabel(\"Optimality Gap (%)\")\n",
    "axs[0].set_title(\"Mean Gaps\",fontsize=8)\n",
    "\n",
    "#Second subplot\n",
    "\n",
    "boxplot_data = [filtered_data[filtered_data[1] == heuristic][\"Optimality Gap\"] for heuristic in colors.keys()]\n",
    "medianprops = dict(color=\"orange\")\n",
    "box = axs[1].boxplot(boxplot_data, labels=colors.keys(), patch_artist=True, medianprops=medianprops)\n",
    "axs[1].set_xlabel(\"Heuristic\")\n",
    "\n",
    "axs[1].set_title(\"Distribution Gaps\",fontsize=8)\n",
    "\n",
    "axs[0].set_ylim([0, max_value])\n",
    "axs[1].set_ylim([0, max_value])\n",
    "\n",
    "plt.tight_layout()\n",
    "\n",
    "plt.suptitle(\"Comparison of Optimality Gaps for Heuristics\", fontsize=10,y=1.05)\n",
    "plt.show()\n"
   ]
  },
  {
   "cell_type": "markdown",
   "metadata": {},
   "source": [
    "--- \n",
    "## Part 2 - Explore New Plot Types"
   ]
  },
  {
   "cell_type": "markdown",
   "metadata": {},
   "source": [
    "\n",
    "Area Plot:\n",
    "\n",
    "The plot I am going to create is an area plot. It will show the total number of Russian personnel losses over time. I believe that an area plot is a wise choice for this type of data because it is well-suited for showing trends over time. The area plot will allow the viewer to see how the number of Russian personnel losses has changed over the course of the war.\n",
    "Type of data: Time series data\n",
    "Area plots are well-suited for showing trends over time. They are easy to read and interpret, and they can be used to compare trends across multiple groups.\n",
    "\n",
    "Hexbin Plot:\n",
    "\n",
    "Type of data: Bivariate data\n",
    "Hexbin plots are well-suited for visualizing the relationship between two continuous variables. They are particularly useful for large datasets, as they can help to identify patterns and trends that would be difficult to see in a scatter plot.\n",
    "In the case of the Russia-Ukraine war, a hexbin plot could be used to visualize the relationship between Russian personnel losses and prisoners of war (POWs). This plot would allow us to see if there is a correlation between the two variables, and if so, what the strength of the correlation is.\n",
    "\n",
    "Scatter 3D Plot:\n",
    "\n",
    "Type of data: Trivariate data\n",
    "Scatter 3D plots are well-suited for visualizing the relationship between three continuous variables. They can be used to identify patterns and trends that would be difficult to see in a scatter plot or hexbin plot.\n",
    "In the case of the Russia-Ukraine war, a scatter 3D plot could be used to visualize the relationship between Russian personnel losses, POWs, and the day of the war. This plot would allow us to see how the number of personnel losses and POWs has changed over the course of the war, and to identify any patterns or trends."
   ]
  },
  {
   "cell_type": "markdown",
   "metadata": {},
   "source": [
    "- **URL of Example Code**:  https://matplotlib.org/stable/gallery/mplot3d/scatter3d.html#sphx-glr-gallery-mplot3d-scatter3d-py ; https://matplotlib.org/stable/plot_types/stats/hexbin.html#sphx-glr-plot-types-stats-hexbin-py ; https://matplotlib.org/stable/gallery/lines_bars_and_markers/fill_between_alpha.html ;\n",
    "- **URL of Sample Data**: https://www.kaggle.com/datasets/piterfm/2022-ukraine-russian-war/data"
   ]
  },
  {
   "cell_type": "code",
   "execution_count": 1,
   "metadata": {},
   "outputs": [],
   "source": [
    "import pandas as pd\n",
    "import numpy as np\n",
    "import matplotlib.pyplot as plt\n",
    "import seaborn as sns\n",
    "from ipywidgets import interact\n",
    "\n",
    "\n",
    "df = pd.read_csv(\"russia_losses_personnel.csv\")"
   ]
  },
  {
   "cell_type": "code",
   "execution_count": 2,
   "metadata": {},
   "outputs": [],
   "source": [
    "####Area Plot\n",
    "\n",
    "df.set_index('date')['personnel'].plot(kind='area', figsize=(10,6),color ='red')\n",
    "plt.title('Personnel over Time')\n",
    "plt.xlabel('Date')\n",
    "plt.ylabel('Personnel')\n",
    "plt.show()\n"
   ]
  },
  {
   "cell_type": "code",
   "execution_count": 3,
   "metadata": {},
   "outputs": [],
   "source": [
    "####Hexbin Plot\n",
    "df.plot(kind='hexbin', x='personnel', y='POW', gridsize=30, figsize=(10,6))\n",
    "plt.title('Personnel vs POW')\n",
    "plt.xlabel('Personnel')\n",
    "plt.ylabel('POW')\n",
    "plt.show()"
   ]
  },
  {
   "cell_type": "code",
   "execution_count": null,
   "metadata": {},
   "outputs": [],
   "source": [
    "##### 3D plot\n",
    "import plotly.express as px\n",
    "\n",
    "# Assuming that 'day', 'personnel', and 'POW' are columns in your DataFrame\n",
    "fig = px.scatter_3d(df, x='day', y='personnel', z='POW',\n",
    "                    color='day', size='personnel', opacity=0.9)\n",
    "\n",
    "# Tight layout\n",
    "fig.update_layout(margin=dict(l=0, r=0, b=0, t=0))\n",
    "\n",
    "fig.show()\n"
   ]
  },
  {
   "cell_type": "markdown",
   "metadata": {},
   "source": [
    "Area plot: This plot shows the total number of Russian personnel losses over time. The plot shows that the number of personnel losses has been steadily increasing since the start of the war.\n",
    "Hexbin plot: This plot shows the relationship between Russian personnel losses and prisoners of war (POWs). The plot shows that there is a positive correlation between the two variables, meaning that as the number of personnel losses increases, the number of POWs also increases.\n",
    "3D plot: This plot shows the relationship between Russian personnel losses, POWs, and the day of the war. The plot shows that the number of personnel losses and POWs has been increasing over time, and that the most losses have occurred in the early days of the war.\n",
    "\n",
    "Conclusion:\n",
    "\n",
    "Overall, the plots show that Russia has suffered significant personnel losses since the start of the war. The plots also show that the number of personnel losses is positively correlated with the number of POWs. This suggests that Russia is losing a significant number of soldiers to capture.\n",
    "\n",
    "\n"
   ]
  }
 ],
 "metadata": {
  "kernelspec": {
   "display_name": "Python 3",
   "language": "python",
   "name": "python3"
  },
  "language_info": {
   "codemirror_mode": {
    "name": "ipython",
    "version": 3
   },
   "file_extension": ".py",
   "mimetype": "text/x-python",
   "name": "python",
   "nbconvert_exporter": "python",
   "pygments_lexer": "ipython3",
   "version": "3.8.2"
  }
 },
 "nbformat": 4,
 "nbformat_minor": 2
}
